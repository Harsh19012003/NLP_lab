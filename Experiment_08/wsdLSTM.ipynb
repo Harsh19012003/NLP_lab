{
 "cells": [
  {
   "cell_type": "code",
   "execution_count": 1,
   "id": "8671a3f4-535f-4d7a-8232-f834496b7de5",
   "metadata": {},
   "outputs": [],
   "source": [
    "import torch\n",
    "import torch.nn as nn\n",
    "import torch.optim as optim"
   ]
  },
  {
   "cell_type": "markdown",
   "id": "9d24d188-7f94-47b7-a139-4dfdbbd8a34d",
   "metadata": {},
   "source": [
    "### Sample data (context and senses)"
   ]
  },
  {
   "cell_type": "code",
   "execution_count": 2,
   "id": "dd8d49e9-fb50-4fe6-b4e2-63727ee328f5",
   "metadata": {},
   "outputs": [],
   "source": [
    "data = [\n",
    "    ([\"The\", \"bank\", \"by\", \"the\", \"river\", \"is\", \"steep.\"], \"financial_institution\"),\n",
    "    ([\"I\", \"walked\", \"along\", \"the\", \"river\", \"bank\", \"yesterday.\"], \"river_bank\"),\n",
    "]"
   ]
  },
  {
   "cell_type": "markdown",
   "id": "250f8c63-90aa-4dc0-bc46-4957b7259fc7",
   "metadata": {},
   "source": [
    "### Create a vocabulary"
   ]
  },
  {
   "cell_type": "code",
   "execution_count": 3,
   "id": "45319f70-cae1-4ab0-ba30-ac549cd7c62a",
   "metadata": {},
   "outputs": [],
   "source": [
    "vocab = set(word for context, _ in data for word in context)\n",
    "word_to_idx = {word: idx for idx, word in enumerate(vocab)}\n",
    "idx_to_word = {idx: word for word, idx in word_to_idx.items()}"
   ]
  },
  {
   "cell_type": "markdown",
   "id": "8163e096-17f0-43bc-baf9-e4a2f018bfef",
   "metadata": {},
   "source": [
    "### Map sense labels to integers"
   ]
  },
  {
   "cell_type": "code",
   "execution_count": 4,
   "id": "681cfcae-dc12-4034-abe4-713aea9248f3",
   "metadata": {},
   "outputs": [],
   "source": [
    "sense_labels = list(set(label for _, label in data))\n",
    "sense_to_idx = {sense: idx for idx, sense in enumerate(sense_labels)}\n",
    "idx_to_sense = {idx: sense for sense, idx in sense_to_idx.items()}"
   ]
  },
  {
   "cell_type": "markdown",
   "id": "6d8d66e1-45ca-4ab9-9b5c-bcf9ca4ef6f5",
   "metadata": {},
   "source": [
    "### Convert data to tensors"
   ]
  },
  {
   "cell_type": "code",
   "execution_count": 5,
   "id": "d33df626-ffca-49a9-b9dd-6e9d9b79f611",
   "metadata": {},
   "outputs": [],
   "source": [
    "data_tensors = [(torch.tensor([word_to_idx[word] for word in context]), torch.tensor(sense_to_idx[sense])) for context, sense in data]"
   ]
  },
  {
   "cell_type": "markdown",
   "id": "e86a2aa0-3361-4f50-9eb5-e73282ca34a7",
   "metadata": {},
   "source": [
    "### Define the LSTM-based WSD model"
   ]
  },
  {
   "cell_type": "code",
   "execution_count": 6,
   "id": "1d9b7ca8-9c5b-410e-8224-729d36f88cb7",
   "metadata": {},
   "outputs": [],
   "source": [
    "class WSDModel(nn.Module):\n",
    "    def __init__(self, vocab_size, embedding_dim, hidden_dim, sense_count):\n",
    "        super(WSDModel, self).__init__()\n",
    "        self.embedding = nn.Embedding(vocab_size, embedding_dim)\n",
    "        self.lstm = nn.LSTM(embedding_dim, hidden_dim)\n",
    "        self.fc = nn.Linear(hidden_dim, sense_count)\n",
    "\n",
    "    def forward(self, context):\n",
    "        embedded = self.embedding(context)\n",
    "        lstm_out, _ = self.lstm(embedded.view(len(context), 1, -1))\n",
    "        prediction = self.fc(lstm_out[-1])\n",
    "        return prediction"
   ]
  },
  {
   "cell_type": "markdown",
   "id": "5fa5f0ac-adf7-425e-8885-a84c52b5123a",
   "metadata": {},
   "source": [
    "### Hyperparameters"
   ]
  },
  {
   "cell_type": "code",
   "execution_count": 7,
   "id": "10c615cf-2d7d-42de-aa4e-69e1d3da740d",
   "metadata": {},
   "outputs": [],
   "source": [
    "vocab_size = len(vocab)\n",
    "embedding_dim = 100\n",
    "hidden_dim = 64\n",
    "sense_count = len(sense_labels)\n",
    "learning_rate = 0.001\n",
    "epochs = 10"
   ]
  },
  {
   "cell_type": "markdown",
   "id": "94c22a38-c37a-4b11-88c2-831fab41adfe",
   "metadata": {},
   "source": [
    "### Initialize the model"
   ]
  },
  {
   "cell_type": "code",
   "execution_count": 8,
   "id": "cd337a9c-7d79-4c4e-8224-822cc28ec558",
   "metadata": {},
   "outputs": [],
   "source": [
    "model = WSDModel(vocab_size, embedding_dim, hidden_dim, sense_count)"
   ]
  },
  {
   "cell_type": "markdown",
   "id": "92041dde-cfe4-4de8-8737-9f3c8b4e6846",
   "metadata": {},
   "source": [
    "### Define the loss function and optimizer"
   ]
  },
  {
   "cell_type": "code",
   "execution_count": 9,
   "id": "8d9a1c0e-f624-4650-961e-7970d6636447",
   "metadata": {},
   "outputs": [],
   "source": [
    "criterion = nn.CrossEntropyLoss()\n",
    "optimizer = optim.Adam(model.parameters(), lr=learning_rate)"
   ]
  },
  {
   "cell_type": "markdown",
   "id": "25c07e6d-68eb-42b3-a3ed-fec34c1df54c",
   "metadata": {},
   "source": [
    "### Training loop"
   ]
  },
  {
   "cell_type": "code",
   "execution_count": 10,
   "id": "d15cdf8e-7706-480d-b236-c6d66d0da7f0",
   "metadata": {},
   "outputs": [],
   "source": [
    "def train(model, data, criterion, optimizer, epochs):\n",
    "    model.train()\n",
    "    for epoch in range(epochs):\n",
    "        total_loss = 0\n",
    "        for context, target_sense in data:\n",
    "            optimizer.zero_grad()\n",
    "            output = model(context)\n",
    "            loss = criterion(output, target_sense.unsqueeze(0))  # Add batch dimension to target\n",
    "            loss.backward()\n",
    "            optimizer.step()\n",
    "            total_loss += loss.item()\n",
    "        print(f\"Epoch {epoch + 1}/{epochs}, Loss: {total_loss / len(data)}\")"
   ]
  },
  {
   "cell_type": "markdown",
   "id": "62c960a5-3f74-46c9-a5cd-f466f243395e",
   "metadata": {},
   "source": [
    "### Train the model"
   ]
  },
  {
   "cell_type": "code",
   "execution_count": 11,
   "id": "921057df-56eb-4d16-aea6-27d164d614b2",
   "metadata": {},
   "outputs": [
    {
     "name": "stdout",
     "output_type": "stream",
     "text": [
      "Epoch 1/10, Loss: 0.6748462915420532\n",
      "Epoch 2/10, Loss: 0.5524637401103973\n",
      "Epoch 3/10, Loss: 0.45888812839984894\n",
      "Epoch 4/10, Loss: 0.3788660913705826\n",
      "Epoch 5/10, Loss: 0.3104103058576584\n",
      "Epoch 6/10, Loss: 0.25243689119815826\n",
      "Epoch 7/10, Loss: 0.20399672538042068\n",
      "Epoch 8/10, Loss: 0.1641014814376831\n",
      "Epoch 9/10, Loss: 0.13169360160827637\n",
      "Epoch 10/10, Loss: 0.1056831069290638\n"
     ]
    }
   ],
   "source": [
    "train(model, data_tensors, criterion, optimizer, epochs)"
   ]
  },
  {
   "cell_type": "markdown",
   "id": "0d6738c8-1d72-4a6f-b333-0a1bf6a67ab4",
   "metadata": {},
   "source": [
    "### Inference (predict senses for new contexts)"
   ]
  },
  {
   "cell_type": "code",
   "execution_count": 12,
   "id": "32b9d3c5-68fc-4fc7-8f02-f340d6d44a09",
   "metadata": {},
   "outputs": [
    {
     "name": "stdout",
     "output_type": "stream",
     "text": [
      "Predicted sense: river_bank\n"
     ]
    }
   ],
   "source": [
    "with torch.no_grad():\n",
    "    new_context = [\"The\", \"bank\", \"charges\", \"high\", \"fees.\"]\n",
    "    new_context = torch.tensor([word_to_idx.get(word, 0) for word in new_context])\n",
    "    new_context = new_context.unsqueeze(0)  # Add batch dimension\n",
    "    predictions = model(new_context)\n",
    "    predicted_label = idx_to_sense[torch.argmax(predictions).item()]\n",
    "    print(f\"Predicted sense: {predicted_label}\")"
   ]
  },
  {
   "cell_type": "code",
   "execution_count": null,
   "id": "bb8d401b-ffcf-43e4-afe1-33c48b9fdba0",
   "metadata": {},
   "outputs": [],
   "source": []
  }
 ],
 "metadata": {
  "kernelspec": {
   "display_name": "Python 3 (ipykernel)",
   "language": "python",
   "name": "python3"
  },
  "language_info": {
   "codemirror_mode": {
    "name": "ipython",
    "version": 3
   },
   "file_extension": ".py",
   "mimetype": "text/x-python",
   "name": "python",
   "nbconvert_exporter": "python",
   "pygments_lexer": "ipython3",
   "version": "3.11.6"
  }
 },
 "nbformat": 4,
 "nbformat_minor": 5
}
