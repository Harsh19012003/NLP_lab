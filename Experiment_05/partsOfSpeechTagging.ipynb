{
 "cells": [
  {
   "cell_type": "markdown",
   "id": "1b4f0f19-d3bb-44c7-9170-edf94f3589db",
   "metadata": {},
   "source": [
    "## Parts of Speech"
   ]
  },
  {
   "cell_type": "markdown",
   "id": "6ba18e31-e929-44b0-87f1-0ce10d867057",
   "metadata": {},
   "source": [
    "#### Tag|Meaning|English Examples\n",
    "#### ADJ|adjective|new, good, high, special, big, local\n",
    "#### ADP|adposition|on, of, at, with, by, into, under\n",
    "#### ADV|adverb|really, already, still, early, now\n",
    "#### CONJ|conjunction|and, or, but, if, while, although\n",
    "#### DET|determiner, article|the, a, some, most, every, no, which\n",
    "#### NOUN|noun|year, home, costs, time, Africa\n",
    "#### NUM|numeral|twenty-four, fourth, 1991, 14:24\n",
    "#### PRT|particle|at, on, out, over per, that, up, with\n",
    "#### PRON|pronoun|he, their, her, its, my, I, us\n",
    "#### VERB|verb|is, say, told, given, playing, would\n",
    "#### .|punctuation marks|. , ; !\n",
    "#### X|other|ersatz, esprit, dunno, gr8, univeristy"
   ]
  },
  {
   "cell_type": "code",
   "execution_count": 1,
   "id": "ac4116af-c258-492c-b40b-3760829add57",
   "metadata": {},
   "outputs": [],
   "source": [
    "text = \"TON 618 (short for Tonantzintla 618) is a hyperluminous, broad-absorption-line, radio-loud quasar and Lyman-alpha blob located near the border of the constellations Canes Venatici and Coma Berenices, with the projected comoving distance of approximately 18.2 billion light-years from Earth.\""
   ]
  },
  {
   "cell_type": "markdown",
   "id": "b6a01ae5-d588-4476-bed6-888810444f27",
   "metadata": {},
   "source": [
    "### Importing necessary dependencies"
   ]
  },
  {
   "cell_type": "code",
   "execution_count": 2,
   "id": "a107f74a-2400-4b98-8c2f-81e1af5234c5",
   "metadata": {},
   "outputs": [],
   "source": [
    "import nltk\n",
    "from nltk.tokenize import word_tokenize"
   ]
  },
  {
   "cell_type": "markdown",
   "id": "d27584dd-2d79-47fb-b4d9-6d97671d3293",
   "metadata": {},
   "source": [
    "### Word Tokenization"
   ]
  },
  {
   "cell_type": "code",
   "execution_count": 3,
   "id": "fd61f00f-2b46-4301-9103-5856e3c380d6",
   "metadata": {},
   "outputs": [],
   "source": [
    "words = word_tokenize(text)"
   ]
  },
  {
   "cell_type": "markdown",
   "id": "c0c1dd07-8de1-420a-b86c-0b032c573c2a",
   "metadata": {},
   "source": [
    "### Parts of Speech Tagging"
   ]
  },
  {
   "cell_type": "code",
   "execution_count": 4,
   "id": "b103e4dc-4474-487b-af1b-5b6b32616005",
   "metadata": {},
   "outputs": [],
   "source": [
    "tagged_words = nltk.pos_tag(words, tagset = 'universal')"
   ]
  },
  {
   "cell_type": "code",
   "execution_count": 5,
   "id": "2563f435-1eba-48df-9f01-524e26a87b0d",
   "metadata": {},
   "outputs": [
    {
     "data": {
      "text/plain": [
       "[('TON', '.'),\n",
       " ('618', 'NUM'),\n",
       " ('(', '.'),\n",
       " ('short', 'ADJ'),\n",
       " ('for', 'ADP'),\n",
       " ('Tonantzintla', 'NOUN'),\n",
       " ('618', 'NUM'),\n",
       " (')', '.'),\n",
       " ('is', 'VERB'),\n",
       " ('a', 'DET'),\n",
       " ('hyperluminous', 'ADJ'),\n",
       " (',', '.'),\n",
       " ('broad-absorption-line', 'ADJ'),\n",
       " (',', '.'),\n",
       " ('radio-loud', 'ADJ'),\n",
       " ('quasar', 'NOUN'),\n",
       " ('and', 'CONJ'),\n",
       " ('Lyman-alpha', 'NOUN'),\n",
       " ('blob', 'NOUN'),\n",
       " ('located', 'VERB'),\n",
       " ('near', 'ADP'),\n",
       " ('the', 'DET'),\n",
       " ('border', 'NOUN'),\n",
       " ('of', 'ADP'),\n",
       " ('the', 'DET'),\n",
       " ('constellations', 'NOUN'),\n",
       " ('Canes', 'NOUN'),\n",
       " ('Venatici', 'NOUN'),\n",
       " ('and', 'CONJ'),\n",
       " ('Coma', 'NOUN'),\n",
       " ('Berenices', 'NOUN'),\n",
       " (',', '.'),\n",
       " ('with', 'ADP'),\n",
       " ('the', 'DET'),\n",
       " ('projected', 'VERB'),\n",
       " ('comoving', 'NOUN'),\n",
       " ('distance', 'NOUN'),\n",
       " ('of', 'ADP'),\n",
       " ('approximately', 'ADV'),\n",
       " ('18.2', 'NUM'),\n",
       " ('billion', 'NUM'),\n",
       " ('light-years', 'NOUN'),\n",
       " ('from', 'ADP'),\n",
       " ('Earth', 'NOUN'),\n",
       " ('.', '.')]"
      ]
     },
     "execution_count": 5,
     "metadata": {},
     "output_type": "execute_result"
    }
   ],
   "source": [
    "tagged_words"
   ]
  },
  {
   "cell_type": "code",
   "execution_count": 6,
   "id": "1fe2222b-4334-43cd-8c9a-924f00feaaf8",
   "metadata": {},
   "outputs": [
    {
     "name": "stdout",
     "output_type": "stream",
     "text": [
      "('TON', '.')\n",
      "('618', 'NUM')\n",
      "('(', '.')\n",
      "('short', 'ADJ')\n",
      "('for', 'ADP')\n",
      "('Tonantzintla', 'NOUN')\n",
      "('618', 'NUM')\n",
      "(')', '.')\n",
      "('is', 'VERB')\n",
      "('a', 'DET')\n",
      "('hyperluminous', 'ADJ')\n",
      "(',', '.')\n",
      "('broad-absorption-line', 'ADJ')\n",
      "(',', '.')\n",
      "('radio-loud', 'ADJ')\n",
      "('quasar', 'NOUN')\n",
      "('and', 'CONJ')\n",
      "('Lyman-alpha', 'NOUN')\n",
      "('blob', 'NOUN')\n",
      "('located', 'VERB')\n",
      "('near', 'ADP')\n",
      "('the', 'DET')\n",
      "('border', 'NOUN')\n",
      "('of', 'ADP')\n",
      "('the', 'DET')\n",
      "('constellations', 'NOUN')\n",
      "('Canes', 'NOUN')\n",
      "('Venatici', 'NOUN')\n",
      "('and', 'CONJ')\n",
      "('Coma', 'NOUN')\n",
      "('Berenices', 'NOUN')\n",
      "(',', '.')\n",
      "('with', 'ADP')\n",
      "('the', 'DET')\n",
      "('projected', 'VERB')\n",
      "('comoving', 'NOUN')\n",
      "('distance', 'NOUN')\n",
      "('of', 'ADP')\n",
      "('approximately', 'ADV')\n",
      "('18.2', 'NUM')\n",
      "('billion', 'NUM')\n",
      "('light-years', 'NOUN')\n",
      "('from', 'ADP')\n",
      "('Earth', 'NOUN')\n",
      "('.', '.')\n"
     ]
    }
   ],
   "source": [
    "for t in tagged_words:\n",
    "    print(t)"
   ]
  },
  {
   "cell_type": "code",
   "execution_count": null,
   "id": "fbd6875a-88ac-483c-a6d6-827b2f3ba6d5",
   "metadata": {},
   "outputs": [],
   "source": []
  }
 ],
 "metadata": {
  "kernelspec": {
   "display_name": "Python 3 (ipykernel)",
   "language": "python",
   "name": "python3"
  },
  "language_info": {
   "codemirror_mode": {
    "name": "ipython",
    "version": 3
   },
   "file_extension": ".py",
   "mimetype": "text/x-python",
   "name": "python",
   "nbconvert_exporter": "python",
   "pygments_lexer": "ipython3",
   "version": "3.11.5"
  }
 },
 "nbformat": 4,
 "nbformat_minor": 5
}
